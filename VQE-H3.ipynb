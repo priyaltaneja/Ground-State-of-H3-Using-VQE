{
 "cells": [
  {
   "cell_type": "code",
   "execution_count": 17,
   "id": "df16ae6a",
   "metadata": {},
   "outputs": [],
   "source": [
    "# import all required libraries\n",
    "import pennylane as qml\n",
    "import matplotlib.pyplot as plt\n",
    "from pennylane import numpy as np\n",
    "from pennylane import qchem"
   ]
  },
  {
   "cell_type": "code",
   "execution_count": 18,
   "id": "659d0c64",
   "metadata": {},
   "outputs": [],
   "source": [
    "# define the molecule\n",
    "symbols = [\"H\", \"H\", \"H\"]\n",
    "coordinates = np.array([[0.0102,0.0442,0.0],[0.9867,1.6303,0.0],\n",
    "                        [1.8720,-0.0085,0.0]])"
   ]
  },
  {
   "cell_type": "code",
   "execution_count": 19,
   "id": "2ca68731",
   "metadata": {},
   "outputs": [
    {
     "name": "stdout",
     "output_type": "stream",
     "text": [
      "Number of qubits needed = 6\n",
      "The Hamiltonian is   (-0.29975061450095497) [I0]\n",
      "+ (-0.11491204817824766) [Z4]\n",
      "+ (-0.11491204817824763) [Z5]\n",
      "+ (-0.11489380123622853) [Z3]\n",
      "+ (-0.11489380123622847) [Z2]\n",
      "+ (0.21445495423132893) [Z0]\n",
      "+ (0.21445495423132893) [Z1]\n",
      "+ (-1.1014770954871286e-06) [Y0 Y2]\n",
      "+ (-1.1014770954871286e-06) [X0 X2]\n",
      "+ (-7.657812067830838e-07) [Y2 Y4]\n",
      "+ (-7.657812067830838e-07) [X2 X4]\n",
      "+ (7.657715636946727e-07) [Y3 Y5]\n",
      "+ (7.657715636946727e-07) [X3 X5]\n",
      "+ (0.018129719621400545) [Y1 Y3]\n",
      "+ (0.018129719621400545) [X1 X3]\n",
      "+ (0.10696109578713542) [Z0 Z2]\n",
      "+ (0.10696109578713542) [Z1 Z3]\n",
      "+ (0.10696270053346385) [Z0 Z4]\n",
      "+ (0.10696270053346385) [Z1 Z5]\n",
      "+ (0.10724024533219191) [Z2 Z4]\n",
      "+ (0.10724024533219191) [Z3 Z5]\n",
      "+ (0.12610803034983684) [Z2 Z5]\n",
      "+ (0.12610803034983684) [Z3 Z4]\n",
      "+ (0.14296074155484034) [Z0 Z3]\n",
      "+ (0.14296074155484034) [Z1 Z2]\n",
      "+ (0.14296240010224587) [Z0 Z5]\n",
      "+ (0.14296240010224587) [Z1 Z4]\n",
      "+ (0.14703116579240524) [Z0 Z1]\n",
      "+ (0.1638437446033697) [Z2 Z3]\n",
      "+ (0.16384447520760734) [Z4 Z5]\n",
      "+ (3.9216779129658264e-11) [Y2 Z3 Y4]\n",
      "+ (3.9216779129658264e-11) [X2 Z3 X4]\n",
      "+ (3.9216779129658264e-11) [Y3 Z4 Y5]\n",
      "+ (3.9216779129658264e-11) [X3 Z4 X5]\n",
      "+ (4.32017324216577e-07) [Y1 Z2 Y3]\n",
      "+ (4.32017324216577e-07) [X1 Z2 X3]\n",
      "+ (4.320173242174444e-07) [Y0 Z1 Y2]\n",
      "+ (4.320173242174444e-07) [X0 Z1 X2]\n",
      "+ (-0.03599969956878202) [Y0 Y1 X4 X5]\n",
      "+ (-0.03599969956878202) [X0 X1 Y4 Y5]\n",
      "+ (-0.03599964576770492) [Y0 Y1 X2 X3]\n",
      "+ (-0.03599964576770492) [X0 X1 Y2 Y3]\n",
      "+ (-0.018867785017644932) [Y2 Y3 X4 X5]\n",
      "+ (-0.018867785017644932) [X2 X3 Y4 Y5]\n",
      "+ (-0.018130280080247953) [Y0 Z1 Y2 Z5]\n",
      "+ (-0.018130280080247953) [X0 Z1 X2 Z5]\n",
      "+ (-0.018130280080247953) [Y1 Z2 Y3 Z4]\n",
      "+ (-0.018130280080247953) [X1 Z2 X3 Z4]\n",
      "+ (-0.018129307163488196) [Y1 X2 X4 Y5]\n",
      "+ (-0.018129307163488196) [Y1 Y2 Y4 Y5]\n",
      "+ (-0.018129307163488196) [X1 X2 X4 X5]\n",
      "+ (-0.018129307163488196) [X1 Y2 Y4 X5]\n",
      "+ (-0.015363373190896675) [Y1 X2 X3 Y4]\n",
      "+ (-0.015363373190896675) [X1 Y2 Y3 X4]\n",
      "+ (-0.015363023688959138) [Y1 Z2 Z3 Y5]\n",
      "+ (-0.015363023688959138) [X1 Z2 Z3 X5]\n",
      "+ (-1.1014770954871286e-06) [Z0 Y1 Z2 Y3]\n",
      "+ (-1.1014770954871286e-06) [Z0 X1 Z2 X3]\n",
      "+ (-9.729167597585103e-07) [Y0 Z1 Y2 Z4]\n",
      "+ (-9.729167597585103e-07) [X0 Z1 X2 Z4]\n",
      "+ (-9.729167597585103e-07) [Y1 Z2 Y3 Z5]\n",
      "+ (-9.729167597585103e-07) [X1 Z2 X3 Z5]\n",
      "+ (-9.333921499902684e-07) [Y0 Z2 Z3 Y4]\n",
      "+ (-9.333921499902684e-07) [X0 Z2 Z3 X4]\n",
      "+ (-8.244716512527395e-07) [Y0 Z1 Z3 Y4]\n",
      "+ (-8.244716512527395e-07) [X0 Z1 Z3 X4]\n",
      "+ (-8.244716512527395e-07) [Y1 Z2 Z4 Y5]\n",
      "+ (-8.244716512527395e-07) [X1 Z2 Z4 X5]\n",
      "+ (-7.657812067830838e-07) [Z2 Y3 Z4 Y5]\n",
      "+ (-7.657812067830838e-07) [Z2 X3 Z4 X5]\n",
      "+ (8.628351505501897e-12) [Z0 Y2 Z3 Y4]\n",
      "+ (8.628351505501897e-12) [Z0 X2 Z3 X4]\n",
      "+ (8.628351505501897e-12) [Z1 Y3 Z4 Y5]\n",
      "+ (8.628351505501897e-12) [Z1 X3 Z4 X5]\n",
      "+ (1.2302637207584066e-11) [Y0 X1 X3 Y4]\n",
      "+ (1.2302637207584066e-11) [Y0 Y1 Y3 Y4]\n",
      "+ (1.2302637207584066e-11) [X0 X1 X3 X4]\n",
      "+ (1.2302637207584066e-11) [X0 Y1 Y3 X4]\n",
      "+ (2.09309895804477e-11) [Z0 Y3 Z4 Y5]\n",
      "+ (2.09309895804477e-11) [Z0 X3 Z4 X5]\n",
      "+ (2.09309895804477e-11) [Z1 Y2 Z3 Y4]\n",
      "+ (2.09309895804477e-11) [Z1 X2 Z3 X4]\n",
      "+ (7.657715636946727e-07) [Y2 Z3 Y4 Z5]\n",
      "+ (7.657715636946727e-07) [X2 Z3 X4 Z5]\n",
      "+ (0.015362548719245419) [Y0 Z1 Z2 Y4]\n",
      "+ (0.015362548719245419) [X0 Z1 Z2 X4]\n",
      "+ (0.015362548719245419) [Y1 Z3 Z4 Y5]\n",
      "+ (0.015362548719245419) [X1 Z3 Z4 X5]\n",
      "+ (0.015363373190896675) [Y1 Y2 X3 X4]\n",
      "+ (0.015363373190896675) [X1 X2 Y3 Y4]\n",
      "+ (0.018129719621400545) [Y0 Z1 Y2 Z3]\n",
      "+ (0.018129719621400545) [X0 Z1 X2 Z3]\n",
      "+ (0.018867785017644932) [Y2 X3 X4 Y5]\n",
      "+ (0.018867785017644932) [X2 Y3 Y4 X5]\n",
      "+ (0.03599964576770492) [Y0 X1 X2 Y3]\n",
      "+ (0.03599964576770492) [X0 Y1 Y2 X3]\n",
      "+ (0.03599969956878202) [Y0 X1 X4 Y5]\n",
      "+ (0.03599969956878202) [X0 Y1 Y4 X5]\n",
      "+ (3.661498963378716e-07) [Y1 Z2 Z3 Z4 Y5]\n",
      "+ (3.661498963378716e-07) [X1 Z2 Z3 Z4 X5]\n",
      "+ (3.661498963383053e-07) [Y0 Z1 Z2 Z3 Y4]\n",
      "+ (3.661498963383053e-07) [X0 Z1 Z2 Z3 X4]\n",
      "+ (-0.018129307163488196) [Y0 Z1 Z2 Y3 X4 X5]\n",
      "+ (-0.018129307163488196) [X0 Z1 Z2 X3 Y4 Y5]\n",
      "+ (-0.015363373190896673) [Y0 Z1 Y2 Y3 Z4 Y5]\n",
      "+ (-0.015363373190896673) [Y0 Z1 Y2 X3 Z4 X5]\n",
      "+ (-0.015363373190896673) [X0 Z1 X2 Y3 Z4 Y5]\n",
      "+ (-0.015363373190896673) [X0 Z1 X2 X3 Z4 X5]\n",
      "+ (-0.015363023688959138) [Y0 Z1 Z2 Z3 Y4 Z5]\n",
      "+ (-0.015363023688959138) [X0 Z1 Z2 Z3 X4 Z5]\n",
      "+ (-9.333921499902684e-07) [Z0 Y1 Z2 Z3 Z4 Y5]\n",
      "+ (-9.333921499902684e-07) [Z0 X1 Z2 Z3 Z4 X5]\n",
      "+ (-1.2302637207584066e-11) [Y0 X1 X2 Z3 Z4 Y5]\n",
      "+ (-1.2302637207584066e-11) [X0 Y1 Y2 Z3 Z4 X5]\n",
      "+ (1.2302637207584066e-11) [Y0 Y1 X2 Z3 Z4 X5]\n",
      "+ (1.2302637207584066e-11) [X0 X1 Y2 Z3 Z4 Y5]\n",
      "+ (0.018129307163488196) [Y0 Z1 Z2 X3 X4 Y5]\n",
      "+ (0.018129307163488196) [X0 Z1 Z2 Y3 Y4 X5]\n"
     ]
    }
   ],
   "source": [
    "# define the molecular hamiltonian\n",
    "hamiltonian, qubits = qchem.molecular_hamiltonian(symbols,\n",
    "                                                 coordinates,\n",
    "                                                 charge = 1)\n",
    "print (\"Number of qubits needed =\", qubits)\n",
    "print (\"The Hamiltonian is\", hamiltonian)"
   ]
  },
  {
   "cell_type": "code",
   "execution_count": 20,
   "id": "5c86effa",
   "metadata": {},
   "outputs": [
    {
     "name": "stdout",
     "output_type": "stream",
     "text": [
      "[1 1 0 0 0 0]\n"
     ]
    }
   ],
   "source": [
    "# determine the hartree-fock state\n",
    "hf = qchem.hf_state(electrons = 2, orbitals = 6)\n",
    "print (hf)"
   ]
  },
  {
   "cell_type": "code",
   "execution_count": 21,
   "id": "e5ee88f9",
   "metadata": {},
   "outputs": [],
   "source": [
    "# calculate the expectation value\n",
    "num_wires = qubits \n",
    "dev = qml.device(\"default.qubit\", wires=num_wires)"
   ]
  },
  {
   "cell_type": "code",
   "execution_count": 22,
   "id": "5bc3dbb7",
   "metadata": {},
   "outputs": [],
   "source": [
    "@qml.qnode(dev)\n",
    "def exp_energy(state):\n",
    "    qml.BasisState(np.array(state), wires=range(num_wires))\n",
    "    return qml.expval(hamiltonian)"
   ]
  },
  {
   "cell_type": "code",
   "execution_count": 23,
   "id": "b3c311d8",
   "metadata": {},
   "outputs": [
    {
     "data": {
      "text/plain": [
       "tensor(-1.24655016, requires_grad=True)"
      ]
     },
     "execution_count": 23,
     "metadata": {},
     "output_type": "execute_result"
    }
   ],
   "source": [
    "exp_energy(hf)"
   ]
  },
  {
   "cell_type": "code",
   "execution_count": 24,
   "id": "2f20c564",
   "metadata": {},
   "outputs": [],
   "source": [
    "# de-excite electrons through double excitation gates\n",
    "def ansatz(params):\n",
    "    qml.BasisState(hf,wires=range(num_wires))\n",
    "    qml.DoubleExcitation(params[0], wires=[0,1,2,3])\n",
    "    qml.DoubleExcitation(params[1],wires=[0,1,4,5])"
   ]
  },
  {
   "cell_type": "code",
   "execution_count": 25,
   "id": "ff4a0151",
   "metadata": {},
   "outputs": [],
   "source": [
    "# minimize the hamiltonian value using ritz variational principle\n",
    "@qml.qnode(dev)\n",
    "def cost_function(params):\n",
    "    ansatz(params)\n",
    "    return qml.expval(hamiltonian)"
   ]
  },
  {
   "cell_type": "code",
   "execution_count": 26,
   "id": "415e700f",
   "metadata": {},
   "outputs": [
    {
     "data": {
      "text/plain": [
       "tensor(-1.26796721, requires_grad=True)"
      ]
     },
     "execution_count": 26,
     "metadata": {},
     "output_type": "execute_result"
    }
   ],
   "source": [
    "cost_function([0.1,0.1])"
   ]
  },
  {
   "cell_type": "code",
   "execution_count": 27,
   "id": "3d104439",
   "metadata": {},
   "outputs": [
    {
     "name": "stdout",
     "output_type": "stream",
     "text": [
      "Step = 0, Energy = -1.26070025 Ha\n",
      "Step = 2, Energy = -1.27115671 Ha\n",
      "Step = 4, Energy = -1.27365804 Ha\n",
      "Step = 6, Energy = -1.27425241 Ha\n",
      "Step = 8, Energy = -1.27439362 Ha\n",
      "Step = 10, Energy = -1.27442718 Ha\n",
      "Step = 12, Energy = -1.27443517 Ha\n",
      "Step = 14, Energy = -1.27443707 Ha\n",
      "Step = 16, Energy = -1.27443752 Ha\n",
      "Step = 18, Energy = -1.27443763 Ha\n"
     ]
    }
   ],
   "source": [
    "# optimize our cost function circuit to find ground-state\n",
    "opt = qml.GradientDescentOptimizer(stepsize=0.4)\n",
    "theta = np.array([0.0,0.0], requires_grad = True)\n",
    "\n",
    "energy = [cost_function(theta)]\n",
    "angle = [theta]\n",
    "max_iterations = 20\n",
    "\n",
    "for n in range(max_iterations):\n",
    "    theta, prev_energy = opt.step_and_cost(cost_function, theta)\n",
    "    \n",
    "    energy.append(cost_function(theta))\n",
    "    angle.append(theta)\n",
    "    \n",
    "    if n%2 == 0:\n",
    "        print (f\"Step = {n}, Energy = {energy[-1]:.8f} Ha\")"
   ]
  },
  {
   "cell_type": "code",
   "execution_count": 28,
   "id": "8e021752",
   "metadata": {},
   "outputs": [
    {
     "name": "stdout",
     "output_type": "stream",
     "text": [
      "\n",
      "Final ground energy: -1.27443764 Ha\n",
      "\n",
      "Final angle parameters:  0.19203468  0.19290335\n"
     ]
    }
   ],
   "source": [
    "# output the ground-state and the optimizing parameters\n",
    "print (\"\\n\" f\"Final ground energy: {energy[-1]: .8f} Ha\")\n",
    "print (\"\\n\" f\"Final angle parameters: {theta[0]: .8f} {theta[1]: .8f}\")"
   ]
  },
  {
   "cell_type": "code",
   "execution_count": 29,
   "id": "ee965c6b",
   "metadata": {},
   "outputs": [
    {
     "data": {
      "text/plain": [
       "tensor([ 0.        +0.j,  0.        +0.j,  0.        +0.j,\n",
       "        -0.09585862+0.j,  0.        +0.j,  0.        +0.j,\n",
       "         0.        +0.j,  0.        +0.j,  0.        +0.j,\n",
       "         0.        +0.j,  0.        +0.j,  0.        +0.j,\n",
       "        -0.09586987+0.j,  0.        +0.j,  0.        +0.j,\n",
       "         0.        +0.j,  0.        +0.j,  0.        +0.j,\n",
       "         0.        +0.j,  0.        +0.j,  0.        +0.j,\n",
       "         0.        +0.j,  0.        +0.j,  0.        +0.j,\n",
       "         0.        +0.j,  0.        +0.j,  0.        +0.j,\n",
       "         0.        +0.j,  0.        +0.j,  0.        +0.j,\n",
       "         0.        +0.j,  0.        +0.j,  0.        +0.j,\n",
       "         0.        +0.j,  0.        +0.j,  0.        +0.j,\n",
       "         0.        +0.j,  0.        +0.j,  0.        +0.j,\n",
       "         0.        +0.j,  0.        +0.j,  0.        +0.j,\n",
       "         0.        +0.j,  0.        +0.j,  0.        +0.j,\n",
       "         0.        +0.j,  0.        +0.j,  0.        +0.j,\n",
       "         0.99076743+0.j,  0.        +0.j,  0.        +0.j,\n",
       "         0.        +0.j,  0.        +0.j,  0.        +0.j,\n",
       "         0.        +0.j,  0.        +0.j,  0.        +0.j,\n",
       "         0.        +0.j,  0.        +0.j,  0.        +0.j,\n",
       "         0.        +0.j,  0.        +0.j,  0.        +0.j,\n",
       "         0.        +0.j], requires_grad=True)"
      ]
     },
     "execution_count": 29,
     "metadata": {},
     "output_type": "execute_result"
    }
   ],
   "source": [
    "# determine the actual ground-state\n",
    "@qml.qnode(dev)\n",
    "def ground_state(params):\n",
    "    ansatz(params)\n",
    "    return qml.state()\n",
    "ground_state(theta)"
   ]
  },
  {
   "cell_type": "code",
   "execution_count": 30,
   "id": "50ef5851",
   "metadata": {},
   "outputs": [
    {
     "data": {
      "image/png": "[encoded data removed]",
      "text/plain": [
       "<Figure size 1200x500 with 2 Axes>"
      ]
     },
     "metadata": {},
     "output_type": "display_data"
    }
   ],
   "source": [
    "# form a graphical representation with the ground state plotted\n",
    "fig = plt.figure()\n",
    "fig.set_figheight(5)\n",
    "fig.set_figwidth(12)\n",
    "\n",
    "# full configuration interaction energy computed classically\n",
    "E_fci = -1.27443763\n",
    "\n",
    "# add energy plot on column 1\n",
    "ax1 = fig.add_subplot(121)\n",
    "ax1.plot(range(n + 2), energy, \"go\", ls=\"dashed\")\n",
    "ax1.plot(range(n + 2), np.full(n + 2, E_fci), color=\"red\")\n",
    "ax1.set_xlabel(\"Optimization step\", fontsize=13)\n",
    "ax1.set_ylabel(\"Energy (Hartree)\", fontsize=13)\n",
    "ax1.text(0.5, -1.2466, r\"$E_\\mathrm{HF}$\", fontsize=15)\n",
    "ax1.text(0, -1.2744, r\"$E_\\mathrm{FCI}$\", fontsize=15)\n",
    "plt.xticks(fontsize=12)\n",
    "plt.yticks(fontsize=12)\n",
    "\n",
    "# add angle plot on column 2\n",
    "ax2 = fig.add_subplot(122)\n",
    "ax2.plot(range(n + 2), angle, \"go\", ls=\"dashed\")\n",
    "ax2.set_xlabel(\"Optimization step\", fontsize=13)\n",
    "ax2.set_ylabel(\"Gate parameter $\\\\theta$ (rad)\", fontsize=13)\n",
    "plt.xticks(fontsize=12)\n",
    "plt.yticks(fontsize=12)\n",
    "\n",
    "plt.subplots_adjust(wspace=0.3, bottom=0.2)\n",
    "plt.show()"
   ]
  }
 ],
 "metadata": {
  "kernelspec": {
   "display_name": "Python 3 (ipykernel)",
   "language": "python",
   "name": "python3"
  },
  "language_info": {
   "codemirror_mode": {
    "name": "ipython",
    "version": 3
   },
   "file_extension": ".py",
   "mimetype": "text/x-python",
   "name": "python",
   "nbconvert_exporter": "python",
   "pygments_lexer": "ipython3",
   "version": "3.9.13"
  }
 },
 "nbformat": 4,
 "nbformat_minor": 5
}
